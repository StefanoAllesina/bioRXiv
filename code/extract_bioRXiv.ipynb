{
 "cells": [
  {
   "cell_type": "code",
   "execution_count": 45,
   "metadata": {
    "collapsed": true
   },
   "outputs": [],
   "source": [
    "import re\n",
    "import csv\n",
    "import os\n",
    "from bs4 import BeautifulSoup"
   ]
  },
  {
   "cell_type": "code",
   "execution_count": 43,
   "metadata": {},
   "outputs": [],
   "source": [
    "def process_file(fname):\n",
    "    with open(fname, 'rb') as f:\n",
    "        html = f.read().decode('UTF8')\n",
    "    soup = BeautifulSoup(html, 'html.parser')\n",
    "    papers = soup.findAll(\"div\", {\"class\": \n",
    "                                  \"highwire-article-citation highwire-citation-type-highwire-article\"})\n",
    "    results = []\n",
    "    for p in papers:\n",
    "        title = p.findAll('span', {\"class\": \"highwire-cite-title\"})\n",
    "        title = title[0].text.strip()\n",
    "        last_names = p.findAll('span', {\"class\": \"nlm-surname\"})\n",
    "        last_names = [n.text.strip() for n in last_names]\n",
    "        num_authors = len(last_names)\n",
    "        tmp = p.findAll('a', {\"class\": \n",
    "                              \"highwire-cite-linked-title\"})[0].get('href')\n",
    "        date, paperid = re.findall(r'/content/early/(\\d+/\\d+/\\d+)/(\\d+)', \n",
    "                                   tmp)[0]\n",
    "\n",
    "        results.append([str(paperid), str(date), str(num_authors),\n",
    "                       str(title)])\n",
    "    return results"
   ]
  },
  {
   "cell_type": "code",
   "execution_count": null,
   "metadata": {},
   "outputs": [],
   "source": [
    "all_categories = os.listdir('../data')\n",
    "with open('bioRXiv.csv', 'w') as fo:\n",
    "    writer = csv.writer(fo)\n",
    "    writer.writerow(['category', 'paperid', 'date', \n",
    "                     'num_authors', 'title'])\n",
    "    for category in all_categories:\n",
    "        all_files = os.listdir('../data/' + category)\n",
    "        for f in all_files:\n",
    "            res = process_file('../data/' + category + '/' + f)\n",
    "            for r in res:\n",
    "                writer.writerow([category] + r)"
   ]
  },
  {
   "cell_type": "code",
   "execution_count": 47,
   "metadata": {},
   "outputs": [
    {
     "data": {
      "text/plain": [
       "['bioinformatics',\n",
       " 'zoology',\n",
       " 'clinical-trials',\n",
       " 'synthetic-biology',\n",
       " 'pathology',\n",
       " 'developmental-biology',\n",
       " 'genetics',\n",
       " 'microbiology',\n",
       " 'neuroscience',\n",
       " 'animal-behavior-and-cognition',\n",
       " 'molecular-biology',\n",
       " 'cancer-biology',\n",
       " 'bioengineering',\n",
       " 'genomics']"
      ]
     },
     "execution_count": 47,
     "metadata": {},
     "output_type": "execute_result"
    }
   ],
   "source": [
    "all_categories"
   ]
  },
  {
   "cell_type": "code",
   "execution_count": 22,
   "metadata": {
    "collapsed": true
   },
   "outputs": [],
   "source": [
    "num_authors = len(last_names)"
   ]
  },
  {
   "cell_type": "code",
   "execution_count": 23,
   "metadata": {},
   "outputs": [
    {
     "data": {
      "text/plain": [
       "2"
      ]
     },
     "execution_count": 23,
     "metadata": {},
     "output_type": "execute_result"
    }
   ],
   "source": [
    "num_authors"
   ]
  },
  {
   "cell_type": "code",
   "execution_count": 29,
   "metadata": {},
   "outputs": [],
   "source": [
    "tmp = p.findAll('a', {\"class\": \"highwire-cite-linked-title\"})[0].get('href')"
   ]
  },
  {
   "cell_type": "code",
   "execution_count": 30,
   "metadata": {},
   "outputs": [
    {
     "data": {
      "text/plain": [
       "'/content/early/2018/02/02/259150'"
      ]
     },
     "execution_count": 30,
     "metadata": {},
     "output_type": "execute_result"
    }
   ],
   "source": [
    "tmp"
   ]
  },
  {
   "cell_type": "code",
   "execution_count": 38,
   "metadata": {},
   "outputs": [],
   "source": [
    "date, paperid = re.findall(r'/content/early/(\\d+/\\d+/\\d+)/(\\d+)', tmp)[0]"
   ]
  },
  {
   "cell_type": "code",
   "execution_count": 39,
   "metadata": {},
   "outputs": [
    {
     "data": {
      "text/plain": [
       "'2018/02/02'"
      ]
     },
     "execution_count": 39,
     "metadata": {},
     "output_type": "execute_result"
    }
   ],
   "source": [
    "date"
   ]
  },
  {
   "cell_type": "code",
   "execution_count": 40,
   "metadata": {},
   "outputs": [
    {
     "data": {
      "text/plain": [
       "'259150'"
      ]
     },
     "execution_count": 40,
     "metadata": {},
     "output_type": "execute_result"
    }
   ],
   "source": [
    "paperid"
   ]
  },
  {
   "cell_type": "code",
   "execution_count": null,
   "metadata": {
    "collapsed": true
   },
   "outputs": [],
   "source": []
  }
 ],
 "metadata": {
  "kernelspec": {
   "display_name": "Python 3",
   "language": "python",
   "name": "python3"
  },
  "language_info": {
   "codemirror_mode": {
    "name": "ipython",
    "version": 3
   },
   "file_extension": ".py",
   "mimetype": "text/x-python",
   "name": "python",
   "nbconvert_exporter": "python",
   "pygments_lexer": "ipython3",
   "version": "3.6.3"
  }
 },
 "nbformat": 4,
 "nbformat_minor": 2
}
